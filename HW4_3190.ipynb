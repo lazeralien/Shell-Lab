{
  "nbformat": 4,
  "nbformat_minor": 0,
  "metadata": {
    "colab": {
      "provenance": [],
      "collapsed_sections": [
        "2J_1GtwBuEzw"
      ],
      "include_colab_link": true
    },
    "kernelspec": {
      "name": "python3",
      "display_name": "Python 3"
    }
  },
  "cells": [
    {
      "cell_type": "markdown",
      "metadata": {
        "id": "view-in-github",
        "colab_type": "text"
      },
      "source": [
        "<a href=\"https://colab.research.google.com/github/lazeralien/Shell-Lab/blob/master/HW4_3190.ipynb\" target=\"_parent\"><img src=\"https://colab.research.google.com/assets/colab-badge.svg\" alt=\"Open In Colab\"/></a>"
      ]
    },
    {
      "cell_type": "markdown",
      "source": [
        "# 3190 HW4 William Babcock"
      ],
      "metadata": {
        "id": "2J_1GtwBuEzw"
      }
    },
    {
      "cell_type": "code",
      "metadata": {
        "id": "CjYqjaxMDg65"
      },
      "source": [
        "import numpy as np\n",
        "from numpy import linalg as LA\n",
        "\n",
        "import scipy.linalg as sla\n"
      ],
      "execution_count": 64,
      "outputs": []
    },
    {
      "cell_type": "markdown",
      "source": [
        "# 1. [50 points] \n",
        "\n",
        "Using data set X4.csv use these n(= 40) rows as the explanatory variables\n",
        "x ∈ R4 in a linear regression problem. Note the first column is always 1, so you do not need\n",
        "to deal specially with the offset. Then use data set y4.csv as the corresponding dependent\n",
        "y value. On parts (c) and (f) of this problem, you will run gradient descent on α ∈ R4, using\n",
        "the dataset provided to find a linear model\n",
        "\n",
        "\n",
        "ˆy = α0x0 + α1x1 + α2x2 + α3x3 = α0 + α1x1 + α2x2 + α3x3\n",
        "\n",
        "\n",
        "minimizing the sum of squared errors. You will run for as many steps as you feel necessary.\n",
        "On parts (c) and (f) of this problem, on each step of your gradient descent run, print on a\n",
        "single line: (i) the value of a function f , estimating the sum of squared errors, and (ii) the\n",
        "norm of the gradient of f , and (iii) the parameters you found ([α0, α1, α2, α3]) at that step.\n",
        "For notation purposes, let yi refer to the ith entry of y, and for j ∈ {0, 1, 2, 3}, let xji refer to\n",
        "the ith entry of the jth explanatory variable xj\n"
      ],
      "metadata": {
        "id": "UFNvWyiGdMu-"
      }
    },
    {
      "cell_type": "code",
      "source": [
        "!wget http://www.cs.utah.edu/~jeffp/teaching/FoDA/X4.csv\n",
        "x = np.genfromtxt('X4.csv',delimiter=',')\n",
        "!wget http://www.cs.utah.edu/~jeffp/teaching/FoDA/y4.csv\n",
        "y = np.genfromtxt('y4.csv',delimiter=',')\n",
        "!wget http://www.cs.utah.edu/~jeffp/teaching/FoDA/A.csv\n",
        "A = np.genfromtxt('A.csv',delimiter=',')"
      ],
      "metadata": {
        "id": "9EXUVHxJYP0u",
        "colab": {
          "base_uri": "https://localhost:8080/"
        },
        "outputId": "e71e5bf0-a9d9-4de4-c413-60a6914ce00c"
      },
      "execution_count": 65,
      "outputs": [
        {
          "output_type": "stream",
          "name": "stdout",
          "text": [
            "--2022-11-16 22:11:57--  http://www.cs.utah.edu/~jeffp/teaching/FoDA/X4.csv\n",
            "Resolving www.cs.utah.edu (www.cs.utah.edu)... 155.98.65.24\n",
            "Connecting to www.cs.utah.edu (www.cs.utah.edu)|155.98.65.24|:80... connected.\n",
            "HTTP request sent, awaiting response... 302 Found\n",
            "Location: https://www.cs.utah.edu/~jeffp/teaching/FoDA/X4.csv [following]\n",
            "--2022-11-16 22:11:57--  https://www.cs.utah.edu/~jeffp/teaching/FoDA/X4.csv\n",
            "Connecting to www.cs.utah.edu (www.cs.utah.edu)|155.98.65.24|:443... connected.\n",
            "HTTP request sent, awaiting response... 200 OK\n",
            "Length: 4000 (3.9K) [text/csv]\n",
            "Saving to: ‘X4.csv.3’\n",
            "\n",
            "X4.csv.3            100%[===================>]   3.91K  --.-KB/s    in 0s      \n",
            "\n",
            "2022-11-16 22:11:57 (198 MB/s) - ‘X4.csv.3’ saved [4000/4000]\n",
            "\n",
            "--2022-11-16 22:11:57--  http://www.cs.utah.edu/~jeffp/teaching/FoDA/y4.csv\n",
            "Resolving www.cs.utah.edu (www.cs.utah.edu)... 155.98.65.24\n",
            "Connecting to www.cs.utah.edu (www.cs.utah.edu)|155.98.65.24|:80... connected.\n",
            "HTTP request sent, awaiting response... 302 Found\n",
            "Location: https://www.cs.utah.edu/~jeffp/teaching/FoDA/y4.csv [following]\n",
            "--2022-11-16 22:11:57--  https://www.cs.utah.edu/~jeffp/teaching/FoDA/y4.csv\n",
            "Connecting to www.cs.utah.edu (www.cs.utah.edu)|155.98.65.24|:443... connected.\n",
            "HTTP request sent, awaiting response... 200 OK\n",
            "Length: 1000 [text/csv]\n",
            "Saving to: ‘y4.csv.3’\n",
            "\n",
            "y4.csv.3            100%[===================>]    1000  --.-KB/s    in 0s      \n",
            "\n",
            "2022-11-16 22:11:57 (197 MB/s) - ‘y4.csv.3’ saved [1000/1000]\n",
            "\n",
            "--2022-11-16 22:11:58--  http://www.cs.utah.edu/~jeffp/teaching/FoDA/A.csv\n",
            "Resolving www.cs.utah.edu (www.cs.utah.edu)... 155.98.65.24\n",
            "Connecting to www.cs.utah.edu (www.cs.utah.edu)|155.98.65.24|:80... connected.\n",
            "HTTP request sent, awaiting response... 302 Found\n",
            "Location: https://www.cs.utah.edu/~jeffp/teaching/FoDA/A.csv [following]\n",
            "--2022-11-16 22:11:58--  https://www.cs.utah.edu/~jeffp/teaching/FoDA/A.csv\n",
            "Connecting to www.cs.utah.edu (www.cs.utah.edu)|155.98.65.24|:443... connected.\n",
            "HTTP request sent, awaiting response... 200 OK\n",
            "Length: 7212 (7.0K) [text/csv]\n",
            "Saving to: ‘A.csv.3’\n",
            "\n",
            "A.csv.3             100%[===================>]   7.04K  --.-KB/s    in 0s      \n",
            "\n",
            "2022-11-16 22:11:58 (225 MB/s) - ‘A.csv.3’ saved [7212/7212]\n",
            "\n"
          ]
        }
      ]
    },
    {
      "cell_type": "markdown",
      "source": [
        "#(a) \n",
        "For the batch gradient descent method, write down a function f (α0, α1, α2, α3) = ? that\n",
        "evaluates the loss function. After filling in ?, report the value of the loss function at\n",
        "(α0 = 1, α1 = 1, α2 = 1, α3 = 1) and also at (α0 = 3, α1 = 2, α2 = 4, α3 = 5); for ?,\n",
        "please simplify the loss function expression as much as possible. The solution should fit\n",
        "on a single line.\n",
        "\n",
        "\n",
        "## Answer: \n",
        "  Function $f(\\alpha) = \\sum_{i=0}^{i=39} ( y_i - (\\alpha_0*x_{0i} + \\alpha_1*x_{1i} + \\alpha_2*x_{2i} + \\alpha_3*x_{3i}))^2$\n",
        "\n",
        "Loss function at 1,1,1,1 = 5.08 x0 + 4.77 x1 + 2.24 x2 + 0.92 x3 \n",
        "\n",
        "Loss function at 3,2,4,5 = 15.23 x0 + 9.54 x1 + 8.96 x2 + 4.6 x3 "
      ],
      "metadata": {
        "id": "AxkiaDDIdc92"
      }
    },
    {
      "cell_type": "code",
      "source": [
        "function = LA.lstsq(x,y)[0]\n",
        "\n",
        "# print(f\"Model f(alphas) = {function[0]} x0 + {function[1]} x1 + {function[2]} x2 + {function[3]} x3 \\n\")\n",
        "a, b, c, d = 1, 1, 1, 1\n",
        "print(f\"Loss function at 1,1,1,1 = {round(function[0]*a, 2)} x0 + {round(function[1]*b, 2)} x1 + {round(function[2]*c, 2)} x2 + {round(function[3]*d, 2)} x3 \\n\")\n",
        "a, b, c, d = 3, 2, 4, 5\n",
        "print(f\"Loss function at 3,2,4,5 = {round(function[0]*a, 2)} x0 + {round(function[1]*b, 2)} x1 + {round(function[2]*c, 2)} x2 + {round(function[3]*d, 2)} x3 \\n\")"
      ],
      "metadata": {
        "colab": {
          "base_uri": "https://localhost:8080/"
        },
        "id": "HKt7NnVOCnye",
        "outputId": "72e974e4-4981-442c-b7e2-b7111832f88a"
      },
      "execution_count": 66,
      "outputs": [
        {
          "output_type": "stream",
          "name": "stdout",
          "text": [
            "Loss function at 1,1,1,1 = 5.08 x0 + 4.77 x1 + 2.24 x2 + 0.92 x3 \n",
            "\n",
            "Loss function at 3,2,4,5 = 15.23 x0 + 9.54 x1 + 8.96 x2 + 4.6 x3 \n",
            "\n"
          ]
        },
        {
          "output_type": "stream",
          "name": "stderr",
          "text": [
            "/usr/local/lib/python3.7/dist-packages/ipykernel_launcher.py:1: FutureWarning: `rcond` parameter will change to the default of machine precision times ``max(M, N)`` where M and N are the input matrix dimensions.\n",
            "To use the future default and silence this warning we advise to pass `rcond=None`, to keep using the old, explicitly pass `rcond=-1`.\n",
            "  \"\"\"Entry point for launching an IPython kernel.\n"
          ]
        }
      ]
    },
    {
      "cell_type": "markdown",
      "source": [
        "#(b) \n",
        "For the function you wrote down in part (a), write down the gradient function. i.e\n",
        "∇f (α0, α1, α2, α3) = ? that evaluates the gradient of the loss function. After filling in ?,\n",
        "report the value of ∇f at (α0 = 1, α1 = 1, α2 = 1, α3 = 1) and (α0 = 3, α1 = 2, α2 =\n",
        "4, α3 = 5); for ?, please simplify the gradient vector expression as much as possible. The\n",
        "solution should fit on a single line.\n"
      ],
      "metadata": {
        "id": "ov8gah7_dfB3"
      }
    },
    {
      "cell_type": "markdown",
      "source": [
        "∇f (α0, α1, α2, α3) =  $(\\frac{d}{dα_0} f(α), \\frac{d}{dα_1}f(α), \\frac{d}{dα_2} f(α), \\frac{d}{dα_3} f(α))$\n",
        "\n",
        "Gradient of loss function at 1,1,1,1 = -0.31 x0 + -1.42 x1 + -1.92 x2 + -1.32 x3 \n",
        "\n",
        "Gradient of loss function at 3,2,4,5 = -0.92 x0 + -2.84 x1 + -7.7 x2 + -6.6 x3 "
      ],
      "metadata": {
        "id": "D_qIFURS4TXj"
      }
    },
    {
      "cell_type": "code",
      "source": [
        "gradient = np.gradient(function)\n",
        "\n",
        "# print(f\"Gradient Function = {gradient[0]} x0 + {gradient[1]} x1 + {gradient[2]} x2 + {gradient[3]} x3 \\n\")\n",
        "a, b, c, d = 1, 1, 1, 1\n",
        "print(f\"Gradient of loss function at 1,1,1,1 = {round(gradient[0]*a,2)} x0 + {round(gradient[1]*b,2)} x1 + {round(gradient[2]*c,2)} x2 + {round(gradient[3]*d,2)} x3 \\n\")\n",
        "a, b, c, d = 3, 2, 4, 5\n",
        "print(f\"Gradient of loss function at 3,2,4,5 = {round(gradient[0]*a,2)} x0 + {round(gradient[1]*b,2)} x1 + {round(gradient[2]*c,2)} x2 + {round(gradient[3]*d,2)} x3 \\n\")"
      ],
      "metadata": {
        "colab": {
          "base_uri": "https://localhost:8080/"
        },
        "id": "2yd7SOR9G5c6",
        "outputId": "94bf4dba-9835-446e-b35e-09619caae86b"
      },
      "execution_count": 67,
      "outputs": [
        {
          "output_type": "stream",
          "name": "stdout",
          "text": [
            "Gradient of loss function at 1,1,1,1 = -0.31 x0 + -1.42 x1 + -1.92 x2 + -1.32 x3 \n",
            "\n",
            "Gradient of loss function at 3,2,4,5 = -0.92 x0 + -2.84 x1 + -7.7 x2 + -6.6 x3 \n",
            "\n"
          ]
        }
      ]
    },
    {
      "cell_type": "markdown",
      "source": [
        "#(c) \n",
        "Now run batch gradient descent (a batch size of all n points).\n",
        "\n",
        "#Answer:\n",
        "Running 50 iterations with .01 learning rate\n",
        "\n",
        "Function:  [3.7228037  2.24302207 1.9400388  1.96673323] Cost:  251.79503254250187 \n",
        "\n",
        "Function:  [4.6726645  2.85152857 2.42282931 2.42864467] Cost:  35.80380125782946 \n",
        "\n",
        "Function:  [4.91750422 3.04341847 2.5355589  2.50916462] Cost:  20.884543511159038 \n",
        "\n",
        "Function:  [4.98298946 3.12831237 2.55457577 2.49383296] Cost:  19.01440716960981 \n",
        "\n",
        "Function:  [5.00274866 3.18494742 2.55011493 2.45520065] Cost:  18.04067582805116 \n",
        "\n",
        "Function:  [5.0107548  3.23336976 2.5400183  2.4116783 ] Cost:  17.174951247672777 \n",
        "\n",
        "Function:  [5.0156485  3.27870547 2.52880992 2.36791506] Cost:  16.363342849605086 \n",
        "\n",
        "Function:  [5.01963078 3.32228708 2.51762887 2.32506293] Cost:  15.599595102485502 \n",
        "\n",
        "Function:  [5.02326558 3.36448192 2.50675412 2.28338576] Cost:  14.880693930119651 \n",
        "\n",
        "Function:  [5.02670054 3.40541114 2.49624635 2.24292255] Cost:  14.203988504730221 \n",
        "\n",
        "Function:  [5.02997731 3.44513248 2.48611111 2.20365596] Cost:  13.56699619125359 \n",
        "\n",
        "Function:  [5.03311048 3.48368676 2.47634024 2.16555515] Cost:  12.967381403825698 \n",
        "\n",
        "Function:  [5.03610761 3.52110973 2.46692243 2.12858663] Cost:  12.402946204379866 \n",
        "\n",
        "Function:  [5.03897435 3.55743508 2.45784586 2.09271699] Cost:  11.871622134650767 \n",
        "\n",
        "Function:  [5.04171571 3.59269529 2.44909888 2.05791361] Cost:  11.371462574479832 \n",
        "\n",
        "Function:  [5.04433645 3.62692178 2.44067018 2.02414476] Cost:  10.90063555432399 \n",
        "\n",
        "Function:  [5.04684111 3.66014503 2.43254881 1.99137966] Cost:  10.45741699246425 \n",
        "\n",
        "Function:  [5.04923407 3.69239463 2.42472417 1.95958844] Cost:  10.040184331633549 \n",
        "\n",
        "Function:  [5.05151958 3.72369927 2.41718603 1.9287421 ] Cost:  9.6474105514387 \n",
        "\n",
        "Function:  [5.05370171 3.7540868  2.40992449 1.89881254] Cost:  9.277658534359974 \n",
        "\n",
        "Function:  [5.05578439 3.78358425 2.40292997 1.86977245] Cost:  8.929575764426776 \n",
        "\n",
        "Function:  [5.05777143 3.81221784 2.39619322 1.84159539] Cost:  8.60188933890479 \n",
        "\n",
        "Function:  [5.05966649 3.84001302 2.38970531 1.81425565] Cost:  8.293401274493117 \n",
        "\n",
        "Function:  [5.06147312 3.86699449 2.38345758 1.78772833] Cost:  8.002984090624675 \n",
        "\n",
        "Function:  [5.06319472 3.89318621 2.37744169 1.76198926] Cost:  7.729576653492782 \n",
        "\n",
        "Function:  [5.06483458 3.91861144 2.37164956 1.73701498] Cost:  7.472180265395714 \n",
        "\n",
        "Function:  [5.06639588 3.94329275 2.36607338 1.71278274] Cost:  7.229854984902248 \n",
        "\n",
        "Function:  [5.06788168 3.96725202 2.36070562 1.68927045] Cost:  7.001716164199015 \n",
        "\n",
        "Function:  [5.06929493 3.99051053 2.35553898 1.66645671] Cost:  6.786931190786758 \n",
        "\n",
        "Function:  [5.07063849 4.01308888 2.35056642 1.64432073] Cost:  6.584716421452049 \n",
        "\n",
        "Function:  [5.07191509 4.03500709 2.34578113 1.62284235] Cost:  6.394334297154643 \n",
        "\n",
        "Function:  [5.07312739 4.05628459 2.34117654 1.60200201] Cost:  6.215090628142657 \n",
        "\n",
        "Function:  [5.07427794 4.07694022 2.33674629 1.58178072] Cost:  6.046332039239738 \n",
        "\n",
        "Function:  [5.0753692  4.09699227 2.33248423 1.56216009] Cost:  5.887443565842936 \n",
        "\n",
        "Function:  [5.07640355 4.11645849 2.32838443 1.54312223] Cost:  5.737846391729586 \n",
        "\n",
        "Function:  [5.07738327 4.1353561  2.32444115 1.52464983] Cost:  5.596995720297537 \n",
        "\n",
        "Function:  [5.07831056 4.15370182 2.32064886 1.50672606] Cost:  5.464378771358612 \n",
        "\n",
        "Function:  [5.07918756 4.17151187 2.3170022  1.48933461] Cost:  5.339512896070756 \n",
        "\n",
        "Function:  [5.0800163  4.188802   2.313496   1.47245964] Cost:  5.221943803032768 \n",
        "\n",
        "Function:  [5.08079877 4.20558748 2.31012526 1.45608581] Cost:  5.111243888977878 \n",
        "\n",
        "Function:  [5.08153686 4.22188313 2.30688515 1.44019821] Cost:  5.007010667890456 \n",
        "\n",
        "Function:  [5.08223242 4.23770335 2.30377102 1.42478238] Cost:  4.908865292735044 \n",
        "\n",
        "Function:  [5.08288719 4.2530621  2.30077836 1.40982429] Cost:  4.816451164330433 \n",
        "\n",
        "Function:  [5.08350289 4.26797292 2.29790282 1.39531034] Cost:  4.729432622224652 \n",
        "\n",
        "Function:  [5.08408115 4.28244897 2.29514019 1.38122732] Cost:  4.647493712730494 \n",
        "\n",
        "Function:  [5.08462355 4.29650302 2.29248642 1.36756243] Cost:  4.570337029567698 \n",
        "\n",
        "Function:  [5.08513161 4.31014744 2.28993759 1.35430323] Cost:  4.4976826228264795 \n",
        "\n",
        "Function:  [5.08560679 4.32339427 2.28748991 1.34143766] Cost:  4.429266972220569 \n",
        "\n",
        "Function:  [5.0860505  4.33625515 2.28513972 1.32895402] Cost:  4.364842020836258 \n",
        "\n",
        "Function:  [5.0864641  4.34874142 2.2828835  1.31684096] Cost:  4.3041742658076565 \n"
      ],
      "metadata": {
        "id": "RkOTCK6Vdg-m"
      }
    },
    {
      "cell_type": "code",
      "source": [
        "# Website reference for a lot of code used:\n",
        "# https://towardsdatascience.com/gradient-descent-clearly-explained-in-python-part-2-the-compelling-code-c21ee26fbc28\n",
        "\n",
        "def cost_function(X,Y,B):\n",
        "    predictions = np.dot(X,B.T)\n",
        "    cost = np.sum((predictions - Y) ** 2) # SSE cost function\n",
        "    return cost\n",
        "\n",
        "\n",
        "\n",
        "def batch_gradient_descent(X,Y,theta,alpha,iters):\n",
        "    cost_history = [0] * iters  # initalize our cost history list\n",
        "    for i in range(iters):         \n",
        "        prediction = np.dot(X,theta.T)                  \n",
        "        theta = theta - (alpha) * np.dot(prediction - Y,X)\n",
        "        cost_history[i] = cost_function(X,Y,theta)\n",
        "        print(\"Function: \", theta, \"Cost: \", cost_history[i],\"\\n\")\n",
        "    return theta,cost_history\n",
        "\n",
        "learnRate = .01\n",
        "batch_theta,batch_history = batch_gradient_descent(x,y,np.zeros(x.shape[1]),learnRate,50)"
      ],
      "metadata": {
        "colab": {
          "base_uri": "https://localhost:8080/"
        },
        "id": "AQNQM34VKCnc",
        "outputId": "9c466a3a-3557-4879-a4de-aae5a0778c99"
      },
      "execution_count": 68,
      "outputs": [
        {
          "output_type": "stream",
          "name": "stdout",
          "text": [
            "Function:  [3.7228037  2.24302207 1.9400388  1.96673323] Cost:  251.79503254250187 \n",
            "\n",
            "Function:  [4.6726645  2.85152857 2.42282931 2.42864467] Cost:  35.80380125782946 \n",
            "\n",
            "Function:  [4.91750422 3.04341847 2.5355589  2.50916462] Cost:  20.884543511159038 \n",
            "\n",
            "Function:  [4.98298946 3.12831237 2.55457577 2.49383296] Cost:  19.01440716960981 \n",
            "\n",
            "Function:  [5.00274866 3.18494742 2.55011493 2.45520065] Cost:  18.04067582805116 \n",
            "\n",
            "Function:  [5.0107548  3.23336976 2.5400183  2.4116783 ] Cost:  17.174951247672777 \n",
            "\n",
            "Function:  [5.0156485  3.27870547 2.52880992 2.36791506] Cost:  16.363342849605086 \n",
            "\n",
            "Function:  [5.01963078 3.32228708 2.51762887 2.32506293] Cost:  15.599595102485502 \n",
            "\n",
            "Function:  [5.02326558 3.36448192 2.50675412 2.28338576] Cost:  14.880693930119651 \n",
            "\n",
            "Function:  [5.02670054 3.40541114 2.49624635 2.24292255] Cost:  14.203988504730221 \n",
            "\n",
            "Function:  [5.02997731 3.44513248 2.48611111 2.20365596] Cost:  13.56699619125359 \n",
            "\n",
            "Function:  [5.03311048 3.48368676 2.47634024 2.16555515] Cost:  12.967381403825698 \n",
            "\n",
            "Function:  [5.03610761 3.52110973 2.46692243 2.12858663] Cost:  12.402946204379866 \n",
            "\n",
            "Function:  [5.03897435 3.55743508 2.45784586 2.09271699] Cost:  11.871622134650767 \n",
            "\n",
            "Function:  [5.04171571 3.59269529 2.44909888 2.05791361] Cost:  11.371462574479832 \n",
            "\n",
            "Function:  [5.04433645 3.62692178 2.44067018 2.02414476] Cost:  10.90063555432399 \n",
            "\n",
            "Function:  [5.04684111 3.66014503 2.43254881 1.99137966] Cost:  10.45741699246425 \n",
            "\n",
            "Function:  [5.04923407 3.69239463 2.42472417 1.95958844] Cost:  10.040184331633549 \n",
            "\n",
            "Function:  [5.05151958 3.72369927 2.41718603 1.9287421 ] Cost:  9.6474105514387 \n",
            "\n",
            "Function:  [5.05370171 3.7540868  2.40992449 1.89881254] Cost:  9.277658534359974 \n",
            "\n",
            "Function:  [5.05578439 3.78358425 2.40292997 1.86977245] Cost:  8.929575764426776 \n",
            "\n",
            "Function:  [5.05777143 3.81221784 2.39619322 1.84159539] Cost:  8.60188933890479 \n",
            "\n",
            "Function:  [5.05966649 3.84001302 2.38970531 1.81425565] Cost:  8.293401274493117 \n",
            "\n",
            "Function:  [5.06147312 3.86699449 2.38345758 1.78772833] Cost:  8.002984090624675 \n",
            "\n",
            "Function:  [5.06319472 3.89318621 2.37744169 1.76198926] Cost:  7.729576653492782 \n",
            "\n",
            "Function:  [5.06483458 3.91861144 2.37164956 1.73701498] Cost:  7.472180265395714 \n",
            "\n",
            "Function:  [5.06639588 3.94329275 2.36607338 1.71278274] Cost:  7.229854984902248 \n",
            "\n",
            "Function:  [5.06788168 3.96725202 2.36070562 1.68927045] Cost:  7.001716164199015 \n",
            "\n",
            "Function:  [5.06929493 3.99051053 2.35553898 1.66645671] Cost:  6.786931190786758 \n",
            "\n",
            "Function:  [5.07063849 4.01308888 2.35056642 1.64432073] Cost:  6.584716421452049 \n",
            "\n",
            "Function:  [5.07191509 4.03500709 2.34578113 1.62284235] Cost:  6.394334297154643 \n",
            "\n",
            "Function:  [5.07312739 4.05628459 2.34117654 1.60200201] Cost:  6.215090628142657 \n",
            "\n",
            "Function:  [5.07427794 4.07694022 2.33674629 1.58178072] Cost:  6.046332039239738 \n",
            "\n",
            "Function:  [5.0753692  4.09699227 2.33248423 1.56216009] Cost:  5.887443565842936 \n",
            "\n",
            "Function:  [5.07640355 4.11645849 2.32838443 1.54312223] Cost:  5.737846391729586 \n",
            "\n",
            "Function:  [5.07738327 4.1353561  2.32444115 1.52464983] Cost:  5.596995720297537 \n",
            "\n",
            "Function:  [5.07831056 4.15370182 2.32064886 1.50672606] Cost:  5.464378771358612 \n",
            "\n",
            "Function:  [5.07918756 4.17151187 2.3170022  1.48933461] Cost:  5.339512896070756 \n",
            "\n",
            "Function:  [5.0800163  4.188802   2.313496   1.47245964] Cost:  5.221943803032768 \n",
            "\n",
            "Function:  [5.08079877 4.20558748 2.31012526 1.45608581] Cost:  5.111243888977878 \n",
            "\n",
            "Function:  [5.08153686 4.22188313 2.30688515 1.44019821] Cost:  5.007010667890456 \n",
            "\n",
            "Function:  [5.08223242 4.23770335 2.30377102 1.42478238] Cost:  4.908865292735044 \n",
            "\n",
            "Function:  [5.08288719 4.2530621  2.30077836 1.40982429] Cost:  4.816451164330433 \n",
            "\n",
            "Function:  [5.08350289 4.26797292 2.29790282 1.39531034] Cost:  4.729432622224652 \n",
            "\n",
            "Function:  [5.08408115 4.28244897 2.29514019 1.38122732] Cost:  4.647493712730494 \n",
            "\n",
            "Function:  [5.08462355 4.29650302 2.29248642 1.36756243] Cost:  4.570337029567698 \n",
            "\n",
            "Function:  [5.08513161 4.31014744 2.28993759 1.35430323] Cost:  4.4976826228264795 \n",
            "\n",
            "Function:  [5.08560679 4.32339427 2.28748991 1.34143766] Cost:  4.429266972220569 \n",
            "\n",
            "Function:  [5.0860505  4.33625515 2.28513972 1.32895402] Cost:  4.364842020836258 \n",
            "\n",
            "Function:  [5.0864641  4.34874142 2.2828835  1.31684096] Cost:  4.3041742658076565 \n",
            "\n"
          ]
        }
      ]
    },
    {
      "cell_type": "markdown",
      "source": [
        "#(d) \n",
        "For the incremental gradient descent method, write down a function fi(α0, α1, α2, α3) = ?\n",
        "that evaluates the loss function for the ith data point. After filling in ?, report the\n",
        "value of the loss function for i = 1 at (α0 = 1, α1 = 1, α2 = 1, α3 = 1) and also at\n",
        "(α0 = 3, α1 = 2, α2 = 4, α3 = 5).\n",
        "\n",
        "## Answer: \n",
        "  Function $f(\\alpha) = \\sum_{0}^{i} ( y_i - (\\alpha_0*x_{0i} + \\alpha_1*x_{1i} + \\alpha_2*x_{2i} + \\alpha_3*x_{3i}))^2$\n",
        "\n",
        "Loss function at 1,1,1,1 = 5.08 x0 + 4.77 x1 + 2.24 x2 + 0.92 x3 \n",
        "\n",
        "Loss function at 3,2,4,5 = 15.23 x0 + 9.54 x1 + 8.96 x2 + 4.6 x3 "
      ],
      "metadata": {
        "id": "faHsyUh5djNk"
      }
    },
    {
      "cell_type": "code",
      "source": [
        "function = LA.lstsq(x,y)[0]\n",
        "\n",
        "# print(f\"Model f(alphas) = {function[0]} x0 + {function[1]} x1 + {function[2]} x2 + {function[3]} x3 \\n\")\n",
        "a, b, c, d = 1, 1, 1, 1\n",
        "print(f\"Loss function at 1,1,1,1 = {round(function[0]*a, 2)} x0 + {round(function[1]*b, 2)} x1 + {round(function[2]*c, 2)} x2 + {round(function[3]*d, 2)} x3 \\n\")\n",
        "a, b, c, d = 3, 2, 4, 5\n",
        "print(f\"Loss function at 3,2,4,5 = {round(function[0]*a, 2)} x0 + {round(function[1]*b, 2)} x1 + {round(function[2]*c, 2)} x2 + {round(function[3]*d, 2)} x3 \\n\")"
      ],
      "metadata": {
        "id": "s6nNi0qZpfa8",
        "colab": {
          "base_uri": "https://localhost:8080/"
        },
        "outputId": "3258b253-ba4b-4286-f9e3-8b49ad417969"
      },
      "execution_count": 69,
      "outputs": [
        {
          "output_type": "stream",
          "name": "stdout",
          "text": [
            "Loss function at 1,1,1,1 = 5.08 x0 + 4.77 x1 + 2.24 x2 + 0.92 x3 \n",
            "\n",
            "Loss function at 3,2,4,5 = 15.23 x0 + 9.54 x1 + 8.96 x2 + 4.6 x3 \n",
            "\n"
          ]
        },
        {
          "output_type": "stream",
          "name": "stderr",
          "text": [
            "/usr/local/lib/python3.7/dist-packages/ipykernel_launcher.py:1: FutureWarning: `rcond` parameter will change to the default of machine precision times ``max(M, N)`` where M and N are the input matrix dimensions.\n",
            "To use the future default and silence this warning we advise to pass `rcond=None`, to keep using the old, explicitly pass `rcond=-1`.\n",
            "  \"\"\"Entry point for launching an IPython kernel.\n"
          ]
        }
      ]
    },
    {
      "cell_type": "markdown",
      "source": [
        "#(e)\n",
        "For the function you wrote in part (d), write down the gradient function, i.e ∇fi(α0, α1, α2, α3) =\n",
        "? that evaluates the gradient of the loss function for the ith data point. After fill-\n",
        "ing in ?, report the value of ∇fi for i = 1 at (α0 = 1, α1 = 1, α2 = 1, α3 = 1) and\n",
        "(α0 = 3, α1 = 2, α2 = 4, α3 = 5)\n",
        "\n",
        "#Answer\n",
        "∇f (α0, α1, α2, α3) =  $(\\frac{d}{dα_0} f(α), \\frac{d}{dα_1}f(α), \\frac{d}{dα_2} f(α), \\frac{d}{dα_3} f(α))$\n",
        "\n",
        "Gradient of loss function at 1,1,1,1 = -0.31 x0 + -1.42 x1 + -1.92 x2 + -1.32 x3 \n",
        "\n",
        "Gradient of loss function at 3,2,4,5 = -0.92 x0 + -2.84 x1 + -7.7 x2 + -6.6 x3 "
      ],
      "metadata": {
        "id": "gXtb1C2wdk_H"
      }
    },
    {
      "cell_type": "code",
      "source": [
        "gradient = np.gradient(function)\n",
        "\n",
        "# print(f\"Gradient Function = {gradient[0]} x0 + {gradient[1]} x1 + {gradient[2]} x2 + {gradient[3]} x3 \\n\")\n",
        "a, b, c, d = 1, 1, 1, 1\n",
        "print(f\"Gradient of loss function at 1,1,1,1 = {round(gradient[0]*a, 2)} x0 + {round(gradient[1]*b, 2)} x1 + {round(gradient[2]*c, 2)} x2 + {round(gradient[3]*d, 2)} x3 \\n\")\n",
        "a, b, c, d = 3, 2, 4, 5\n",
        "print(f\"Gradient of loss function at 3,2,4,5 = {round(gradient[0]*a, 2)} x0 + {round(gradient[1]*b, 2)} x1 + {round(gradient[2]*c, 2)} x2 + {round(gradient[3]*d, 2)} x3 \\n\")"
      ],
      "metadata": {
        "colab": {
          "base_uri": "https://localhost:8080/"
        },
        "id": "oVFUAHz-pSsY",
        "outputId": "1468ceb1-2dad-46ce-f877-64b079faf58e"
      },
      "execution_count": 70,
      "outputs": [
        {
          "output_type": "stream",
          "name": "stdout",
          "text": [
            "Gradient of loss function at 1,1,1,1 = -0.31 x0 + -1.42 x1 + -1.92 x2 + -1.32 x3 \n",
            "\n",
            "Gradient of loss function at 3,2,4,5 = -0.92 x0 + -2.84 x1 + -7.7 x2 + -6.6 x3 \n",
            "\n"
          ]
        }
      ]
    },
    {
      "cell_type": "markdown",
      "source": [
        "#(f) \n",
        "Now run incremental gradient descent.\n",
        "Choose one method which you preferred (either is ok to choose), and explain why you preferred\n",
        "it to the other method.\n",
        "\n",
        "#Answer\n",
        "\n",
        "Function:  [0.09307009 0.05607555 0.04850097 0.04916833] Cost:  86.18133331720745 \n",
        "\n",
        "Function:  [0.1844071  0.11112953 0.09609116 0.09739615] Cost:  83.01826445712685 \n",
        "\n",
        "Function:  [0.27404332 0.16518097 0.14278756 0.14470101] Cost:  79.97202097734848 \n",
        "\n",
        "Function:  [0.36201048 0.21824854 0.18860683 0.19110013] Cost:  77.03828709893708 \n",
        "\n",
        "Function:  [0.44833968 0.27035057 0.23356534 0.23661042] Cost:  74.21290647842804 \n",
        "\n",
        "Function:  [0.53306147 0.32150504 0.27767915 0.28124848] Cost:  71.49187631788747 \n",
        "\n",
        "Function:  [0.61620582 0.3717296  0.320964   0.32503058] Cost:  68.87134169256143 \n",
        "\n",
        "Function:  [0.69780212 0.42104158 0.36343536 0.36797269] Cost:  66.34759008807559 \n",
        "\n",
        "Function:  [0.77787925 0.46945798 0.4051084  0.41009051] Cost:  63.91704613944435 \n",
        "\n",
        "Function:  [0.85646553 0.51699546 0.44599802 0.45139941] Cost:  61.57626656443384 \n",
        "\n",
        "Function:  [0.93358875 0.56367041 0.48611882 0.49191449] Cost:  59.321935284099155 \n",
        "\n",
        "Function:  [1.00927619 0.60949888 0.52548515 0.53165058] Cost:  57.15085872358084 \n",
        "\n",
        "Function:  [1.08355462 0.65449665 0.56411107 0.57062221] Cost:  55.05996128650159 \n",
        "\n",
        "Function:  [1.1564503  0.69867918 0.60201041 0.60884366] Cost:  53.04628099655004 \n",
        "\n",
        "Function:  [1.22798901 0.74206166 0.63919671 0.64632892] Cost:  51.10696530007496 \n",
        "\n",
        "Function:  [1.29819606 0.78465898 0.67568327 0.68309175] Cost:  49.23926702374223 \n",
        "\n",
        "Function:  [1.36709627 0.82648577 0.71148314 0.71914564] Cost:  47.44054048152585 \n",
        "\n",
        "Function:  [1.434714   0.86755638 0.74660914 0.75450381] Cost:  45.70823772551619 \n",
        "\n",
        "Function:  [1.50107316 0.90788488 0.78107384 0.78917925] Cost:  44.0399049352329 \n",
        "\n",
        "Function:  [1.56619723 0.9474851  0.81488956 0.82318472] Cost:  42.43317894032526 \n",
        "\n",
        "Function:  [1.63010921 0.9863706  0.84806842 0.85653272] Cost:  40.88578387173277 \n",
        "\n",
        "Function:  [1.69283171 1.02455469 0.88062229 0.88923553] Cost:  39.39552793655993 \n",
        "\n",
        "Function:  [1.75438692 1.06205043 0.91256284 0.9213052 ] Cost:  37.96030031209532 \n",
        "\n",
        "Function:  [1.81479657 1.09887063 0.94390151 0.95275354] Cost:  36.5780681545731 \n",
        "\n",
        "Function:  [1.87408205 1.13502788 0.97464951 0.98359216] Cost:  35.24687371843841 \n",
        "\n",
        "Function:  [1.93226429 1.17053451 1.00481788 1.01383245] Cost:  33.96483158203404 \n",
        "\n",
        "Function:  [1.98936388 1.20540264 1.03441743 1.04348557] Cost:  32.73012597577724 \n",
        "\n",
        "Function:  [2.04540099 1.23964416 1.06345875 1.0725625 ] Cost:  31.541008209040235 \n",
        "\n",
        "Function:  [2.10039544 1.27327074 1.09195228 1.101074  ] Cost:  30.39579419208801 \n",
        "\n",
        "Function:  [2.15436665 1.30629381 1.11990823 1.12903061] Cost:  29.292862049562018 \n",
        "\n",
        "Function:  [2.20733371 1.33872463 1.14733663 1.15644272] Cost:  28.23064982212755 \n",
        "\n",
        "Function:  [2.25931534 1.37057421 1.17424731 1.18332048] Cost:  27.207653253027992 \n",
        "\n",
        "Function:  [2.3103299  1.40185337 1.20064995 1.20967388] Cost:  26.222423656409205 \n",
        "\n",
        "Function:  [2.36039544 1.43257273 1.22655401 1.23551271] Cost:  25.27356586439328 \n",
        "\n",
        "Function:  [2.40952963 1.46274271 1.25196879 1.26084658] Cost:  24.359736249992455 \n",
        "\n",
        "Function:  [2.45774984 1.49237354 1.27690344 1.28568493] Cost:  23.479640823061466 \n",
        "\n",
        "Function:  [2.50507312 1.52147525 1.3013669  1.310037  ] Cost:  22.632033396590103 \n",
        "\n",
        "Function:  [2.55151617 1.55005769 1.32536796 1.3339119 ] Cost:  21.8157138207375 \n",
        "\n",
        "Function:  [2.59709542 1.57813053 1.34891525 1.35731852] Cost:  21.029526282105508 \n",
        "\n",
        "Function:  [2.64182697 1.60570325 1.37201724 1.38026562] Cost:  20.272357665841106 \n",
        "\n",
        "Function:  [2.68572661 1.63278516 1.39468224 1.40276178] Cost:  19.54313597824683 \n",
        "\n",
        "Function:  [2.72880986 1.65938539 1.4169184  1.42481543] Cost:  18.840828827663852 \n",
        "\n",
        "Function:  [2.77109194 1.68551291 1.43873372 1.44643483] Cost:  18.16444196147497 \n",
        "\n",
        "Function:  [2.81258778 1.7111765  1.46013605 1.4676281 ] Cost:  17.51301785715433 \n",
        "\n",
        "Function:  [2.85331204 1.73638482 1.4811331  1.4884032 ] Cost:  16.885634365367256 \n",
        "\n",
        "Function:  [2.8932791  1.76114632 1.50173243 1.50876795] Cost:  16.28140340319734 \n",
        "\n",
        "Function:  [2.93250308 1.78546932 1.52194146 1.52873001] Cost:  15.699469695648885 \n",
        "\n",
        "Function:  [2.97099784 1.80936198 1.54176748 1.54829691] Cost:  15.139009563641444 \n",
        "\n",
        "Function:  [3.00877696 1.8328323  1.56121762 1.56747603] Cost:  14.599229756778755 \n",
        "\n",
        "Function:  [3.04585379 1.85588815 1.58029892 1.58627462] Cost:  14.079366329238116 \n"
      ],
      "metadata": {
        "id": "N_o4XfXrdoP_"
      }
    },
    {
      "cell_type": "code",
      "source": [
        "# https://towardsdatascience.com/gradient-descent-clearly-explained-in-python-part-2-the-compelling-code-c21ee26fbc28\n",
        "\n",
        "def cost_function(X,Y,B):\n",
        "    predictions = np.dot(X,B.T)\n",
        "    cost = (1/len(Y)) * np.sum((predictions - Y) ** 2)\n",
        "    return cost\n",
        "\n",
        "\n",
        "def batch_gradient_descent(X,Y,theta,alpha,iters):\n",
        "    cost_history = [0] * iters  # initalize our cost history list\n",
        "    for i in range(iters):         \n",
        "        prediction = np.dot(X,theta.T)       \n",
        "        theta = theta - (alpha/len(Y)) * np.dot(prediction - Y,X)   \n",
        "        cost_history[i] = cost_function(X,Y,theta)\n",
        "        print(\"Function: \", theta, \"Cost: \", cost_history[i], \"\\n\")              \n",
        "    return theta,cost_history\n",
        "\n",
        "theta = np.zeros(x.shape[1])\n",
        "learningRate = 0.01\n",
        "batch_theta,batch_history=batch_gradient_descent(x,y,theta,learningRate,50)"
      ],
      "metadata": {
        "colab": {
          "base_uri": "https://localhost:8080/"
        },
        "id": "t6ffv9J6LIfs",
        "outputId": "726e972e-4cab-4d01-82f0-0be8381cc2ee"
      },
      "execution_count": 71,
      "outputs": [
        {
          "output_type": "stream",
          "name": "stdout",
          "text": [
            "Function:  [0.09307009 0.05607555 0.04850097 0.04916833] Cost:  86.18133331720745 \n",
            "\n",
            "Function:  [0.1844071  0.11112953 0.09609116 0.09739615] Cost:  83.01826445712685 \n",
            "\n",
            "Function:  [0.27404332 0.16518097 0.14278756 0.14470101] Cost:  79.97202097734848 \n",
            "\n",
            "Function:  [0.36201048 0.21824854 0.18860683 0.19110013] Cost:  77.03828709893708 \n",
            "\n",
            "Function:  [0.44833968 0.27035057 0.23356534 0.23661042] Cost:  74.21290647842804 \n",
            "\n",
            "Function:  [0.53306147 0.32150504 0.27767915 0.28124848] Cost:  71.49187631788747 \n",
            "\n",
            "Function:  [0.61620582 0.3717296  0.320964   0.32503058] Cost:  68.87134169256143 \n",
            "\n",
            "Function:  [0.69780212 0.42104158 0.36343536 0.36797269] Cost:  66.34759008807559 \n",
            "\n",
            "Function:  [0.77787925 0.46945798 0.4051084  0.41009051] Cost:  63.91704613944435 \n",
            "\n",
            "Function:  [0.85646553 0.51699546 0.44599802 0.45139941] Cost:  61.57626656443384 \n",
            "\n",
            "Function:  [0.93358875 0.56367041 0.48611882 0.49191449] Cost:  59.321935284099155 \n",
            "\n",
            "Function:  [1.00927619 0.60949888 0.52548515 0.53165058] Cost:  57.15085872358084 \n",
            "\n",
            "Function:  [1.08355462 0.65449665 0.56411107 0.57062221] Cost:  55.05996128650159 \n",
            "\n",
            "Function:  [1.1564503  0.69867918 0.60201041 0.60884366] Cost:  53.04628099655004 \n",
            "\n",
            "Function:  [1.22798901 0.74206166 0.63919671 0.64632892] Cost:  51.10696530007496 \n",
            "\n",
            "Function:  [1.29819606 0.78465898 0.67568327 0.68309175] Cost:  49.23926702374223 \n",
            "\n",
            "Function:  [1.36709627 0.82648577 0.71148314 0.71914564] Cost:  47.44054048152585 \n",
            "\n",
            "Function:  [1.434714   0.86755638 0.74660914 0.75450381] Cost:  45.70823772551619 \n",
            "\n",
            "Function:  [1.50107316 0.90788488 0.78107384 0.78917925] Cost:  44.0399049352329 \n",
            "\n",
            "Function:  [1.56619723 0.9474851  0.81488956 0.82318472] Cost:  42.43317894032526 \n",
            "\n",
            "Function:  [1.63010921 0.9863706  0.84806842 0.85653272] Cost:  40.88578387173277 \n",
            "\n",
            "Function:  [1.69283171 1.02455469 0.88062229 0.88923553] Cost:  39.39552793655993 \n",
            "\n",
            "Function:  [1.75438692 1.06205043 0.91256284 0.9213052 ] Cost:  37.96030031209532 \n",
            "\n",
            "Function:  [1.81479657 1.09887063 0.94390151 0.95275354] Cost:  36.5780681545731 \n",
            "\n",
            "Function:  [1.87408205 1.13502788 0.97464951 0.98359216] Cost:  35.24687371843841 \n",
            "\n",
            "Function:  [1.93226429 1.17053451 1.00481788 1.01383245] Cost:  33.96483158203404 \n",
            "\n",
            "Function:  [1.98936388 1.20540264 1.03441743 1.04348557] Cost:  32.73012597577724 \n",
            "\n",
            "Function:  [2.04540099 1.23964416 1.06345875 1.0725625 ] Cost:  31.541008209040235 \n",
            "\n",
            "Function:  [2.10039544 1.27327074 1.09195228 1.101074  ] Cost:  30.39579419208801 \n",
            "\n",
            "Function:  [2.15436665 1.30629381 1.11990823 1.12903061] Cost:  29.292862049562018 \n",
            "\n",
            "Function:  [2.20733371 1.33872463 1.14733663 1.15644272] Cost:  28.23064982212755 \n",
            "\n",
            "Function:  [2.25931534 1.37057421 1.17424731 1.18332048] Cost:  27.207653253027992 \n",
            "\n",
            "Function:  [2.3103299  1.40185337 1.20064995 1.20967388] Cost:  26.222423656409205 \n",
            "\n",
            "Function:  [2.36039544 1.43257273 1.22655401 1.23551271] Cost:  25.27356586439328 \n",
            "\n",
            "Function:  [2.40952963 1.46274271 1.25196879 1.26084658] Cost:  24.359736249992455 \n",
            "\n",
            "Function:  [2.45774984 1.49237354 1.27690344 1.28568493] Cost:  23.479640823061466 \n",
            "\n",
            "Function:  [2.50507312 1.52147525 1.3013669  1.310037  ] Cost:  22.632033396590103 \n",
            "\n",
            "Function:  [2.55151617 1.55005769 1.32536796 1.3339119 ] Cost:  21.8157138207375 \n",
            "\n",
            "Function:  [2.59709542 1.57813053 1.34891525 1.35731852] Cost:  21.029526282105508 \n",
            "\n",
            "Function:  [2.64182697 1.60570325 1.37201724 1.38026562] Cost:  20.272357665841106 \n",
            "\n",
            "Function:  [2.68572661 1.63278516 1.39468224 1.40276178] Cost:  19.54313597824683 \n",
            "\n",
            "Function:  [2.72880986 1.65938539 1.4169184  1.42481543] Cost:  18.840828827663852 \n",
            "\n",
            "Function:  [2.77109194 1.68551291 1.43873372 1.44643483] Cost:  18.16444196147497 \n",
            "\n",
            "Function:  [2.81258778 1.7111765  1.46013605 1.4676281 ] Cost:  17.51301785715433 \n",
            "\n",
            "Function:  [2.85331204 1.73638482 1.4811331  1.4884032 ] Cost:  16.885634365367256 \n",
            "\n",
            "Function:  [2.8932791  1.76114632 1.50173243 1.50876795] Cost:  16.28140340319734 \n",
            "\n",
            "Function:  [2.93250308 1.78546932 1.52194146 1.52873001] Cost:  15.699469695648885 \n",
            "\n",
            "Function:  [2.97099784 1.80936198 1.54176748 1.54829691] Cost:  15.139009563641444 \n",
            "\n",
            "Function:  [3.00877696 1.8328323  1.56121762 1.56747603] Cost:  14.599229756778755 \n",
            "\n",
            "Function:  [3.04585379 1.85588815 1.58029892 1.58627462] Cost:  14.079366329238116 \n",
            "\n"
          ]
        }
      ]
    },
    {
      "cell_type": "markdown",
      "source": [
        "#Answer:\n",
        "I preferred the batch gradient descent. It looks to converge to the lowest cost faster than the incremental gradient descent. Considering the small data size it seems like the best choice to get to an optimal alpha."
      ],
      "metadata": {
        "id": "XJ8r1mYsNtQq"
      }
    },
    {
      "cell_type": "markdown",
      "source": [
        "# 2. [20 points]\n",
        "\n",
        "Consider a matrix A ∈ R\n",
        "100×20 and its SVD [U, S, V T\n",
        "] = svd(A). Answer the following\n",
        "questions."
      ],
      "metadata": {
        "id": "KpYjwjvKCF3e"
      }
    },
    {
      "cell_type": "markdown",
      "source": [
        "# (a) \n",
        "True or False, U^TU = V^T V\n",
        "\n",
        "#Answer:\n",
        "False. If they were the same dimensions then they would be equal."
      ],
      "metadata": {
        "id": "LQOD1eIECR6G"
      }
    },
    {
      "cell_type": "markdown",
      "source": [
        "#(b) \n",
        "True or False, a right singular vector of A is a direction in R$^1$$^0$$^0$\n",
        "#Answer:\n",
        "False, it's a direction in R$^2$$^0$"
      ],
      "metadata": {
        "id": "QarAptK6CWgf"
      }
    },
    {
      "cell_type": "markdown",
      "source": [
        "#(c) \n",
        "True or False, Suppose v3 is the third right singular vector of A. Then v3 is the third\n",
        "eigenvector of AT A\n",
        "#Answer:\n",
        "True. Says so on page 137 of textbook."
      ],
      "metadata": {
        "id": "5AuPHI-rCZ1w"
      }
    },
    {
      "cell_type": "markdown",
      "source": [
        "# (d) \n",
        "\n",
        "Let u1, u2 be the first two left singular vectors; let v1, v2 be the first two right singular vectors;\n",
        "and let s1, s2 be the first two singular values. Consider B = s1u1v\n",
        "T 1 + s2u2vT2.\n",
        "\n",
        "\n",
        "Write down B in singular value decomposition form. That is, find a U\n",
        "∗\n",
        ", S∗\n",
        ", V ∗\n",
        "satisfying\n",
        "that U\n",
        "∗\n",
        "is n x n and orthonormal, S\n",
        "∗\n",
        "is n x d with the diagonal having positive entries\n",
        "in decreasing order, and V d x d and orthonormal such that B = U∗S∗(V∗)T\n",
        "\n",
        "#Answer\n",
        "![image.png](data:image/png;base64,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)\n"
      ],
      "metadata": {
        "id": "nKr5PS8hCcbA"
      }
    },
    {
      "cell_type": "markdown",
      "source": [
        "# (e) \n",
        "Suppose the first 5 singular values in S are positive. What is the rank of B?\n",
        "\n",
        "#Answer: \n",
        "The rank would be 5 as singular values must be greater than 0. The rank of a matrix is the same as the number of singular values.\n"
      ],
      "metadata": {
        "id": "DxD8ksTbCehi"
      }
    },
    {
      "cell_type": "markdown",
      "source": [
        "# (f) \n",
        "Suppose only the first singular value in S is positive. What is the rank of B?\n",
        "\n",
        "# Answer:\n",
        "The rank of B would be 1 in this case. It only has one positive singular value similar to part e."
      ],
      "metadata": {
        "id": "vbL6f9QWCf3z"
      }
    },
    {
      "cell_type": "markdown",
      "source": [
        "# (g) \n",
        "Let v4 be the fourth right singular vector. What is ||Bv$_4$||?\n",
        "#Answer:\n",
        "u$_4$*s$_4$*v$_4$\n",
        "\n",
        "B$_4$ would be the equivalent of the 4th U column * 4th S value * 4th  V row"
      ],
      "metadata": {
        "id": "nXBxRcvfChp9"
      }
    },
    {
      "cell_type": "markdown",
      "source": [
        "# 3. [30 points] \n",
        "Read data set A.csv as a matrix A ∈ R\n",
        "40×9\n",
        ". Compute the SVD of A and report\n"
      ],
      "metadata": {
        "id": "ALuEd5ImCyPk"
      }
    },
    {
      "cell_type": "code",
      "source": [
        "u, s, vt = np.linalg.svd(A)\n",
        "print(\"U\\n\", u, \"\\nS\\n\", s, \"\\nVt\\n\", vt)"
      ],
      "metadata": {
        "id": "YpNGIO_tbH6p",
        "colab": {
          "base_uri": "https://localhost:8080/"
        },
        "outputId": "531d8156-821e-4059-e3ed-61930cec59a3"
      },
      "execution_count": 72,
      "outputs": [
        {
          "output_type": "stream",
          "name": "stdout",
          "text": [
            "U\n",
            " [[-0.09136897  0.10984115 -0.11952119 ...  0.09620338 -0.08539236\n",
            "  -0.09218757]\n",
            " [-0.05331326 -0.04100421 -0.1903035  ... -0.03669328  0.08142502\n",
            "   0.0514037 ]\n",
            " [ 0.14469323 -0.06837295 -0.25774046 ...  0.03880281 -0.07932511\n",
            "  -0.01663689]\n",
            " ...\n",
            " [-0.08153174 -0.10746726  0.01616115 ...  0.93741627 -0.0211793\n",
            "   0.03191361]\n",
            " [-0.16928047  0.11702301 -0.1166756  ... -0.00679245  0.92427036\n",
            "  -0.03462236]\n",
            " [-0.02458753  0.04114705 -0.0417589  ...  0.02250079 -0.02274143\n",
            "   0.92562205]] \n",
            "S\n",
            " [1.10000000e+01 7.00000000e+00 4.00000000e+00 2.00000000e+00\n",
            " 1.00000000e+00 5.00000000e-01 2.50000000e-01 7.70469247e-16\n",
            " 4.76261344e-16] \n",
            "Vt\n",
            " [[ 0.40776342 -0.16898876  0.05480274  0.15447126 -0.61710482  0.07978919\n",
            "   0.08574355 -0.08771369  0.61325098]\n",
            " [ 0.01168857 -0.29244578  0.57800761  0.19363533  0.0314179  -0.23738566\n",
            "   0.15144661  0.67818147 -0.05045983]\n",
            " [-0.5630155   0.02242882 -0.12358193 -0.18651326 -0.13018968 -0.65476328\n",
            "   0.24560229 -0.0741688   0.34780023]\n",
            " [-0.20458845  0.12535132 -0.37860607  0.23533128 -0.44427524 -0.07279325\n",
            "  -0.58008491  0.42652586 -0.15034987]\n",
            " [-0.53136454 -0.19359373 -0.08998611  0.30660382 -0.23253502  0.53021331\n",
            "   0.47279219 -0.00472807 -0.13898307]\n",
            " [ 0.05630424 -0.28321125 -0.47069472  0.43642779  0.56052765 -0.01225353\n",
            "  -0.01472276  0.1567595   0.4067761 ]\n",
            " [-0.28738851 -0.07452142  0.1195306  -0.55974666  0.12607615  0.45640965\n",
            "  -0.28304278  0.28123218  0.44815265]\n",
            " [ 0.27254348 -0.47014013 -0.47433642 -0.49827003 -0.13698338 -0.06366886\n",
            "   0.27199928  0.2419009  -0.27586667]\n",
            " [-0.17988592 -0.72486546  0.18802977  0.04910717 -0.03068038 -0.09812301\n",
            "  -0.44164118 -0.42748966 -0.12680954]]\n"
          ]
        }
      ]
    },
    {
      "cell_type": "markdown",
      "source": [
        "# (a) \n",
        "the fourth singular value, and\n"
      ],
      "metadata": {
        "id": "nEjg83NiC1Vl"
      }
    },
    {
      "cell_type": "code",
      "source": [
        "print(\"fourth singular value: \", s[3])"
      ],
      "metadata": {
        "colab": {
          "base_uri": "https://localhost:8080/"
        },
        "id": "yq-5XjoJbO64",
        "outputId": "43e5eeba-4df0-4b69-8d4b-4aa5bb28b2aa"
      },
      "execution_count": 73,
      "outputs": [
        {
          "output_type": "stream",
          "name": "stdout",
          "text": [
            "fourth singular value:  1.9999999999999998\n"
          ]
        }
      ]
    },
    {
      "cell_type": "markdown",
      "source": [
        "# (b) \n",
        "the rank of A?\n",
        "Compute the eigendecomposition of AAT.\n"
      ],
      "metadata": {
        "id": "l0urivOtC4l9"
      }
    },
    {
      "cell_type": "code",
      "source": [
        "rankA = np.linalg.matrix_rank(A)\n",
        "print(\"rank of A: \", rankA)"
      ],
      "metadata": {
        "colab": {
          "base_uri": "https://localhost:8080/"
        },
        "id": "rhvGv6zqbwvC",
        "outputId": "f269c504-f977-477e-eb4f-4017ebb1095e"
      },
      "execution_count": 74,
      "outputs": [
        {
          "output_type": "stream",
          "name": "stdout",
          "text": [
            "rank of A:  7\n"
          ]
        }
      ]
    },
    {
      "cell_type": "markdown",
      "source": [
        "# (c) \n",
        "For every non-zero eigenvalue, report it and its associated eigenvector. How many nonzero eigenvalues are there?\n",
        "\n",
        "\n",
        "## Answer:\n",
        "There are 9 eigenvalues\n",
        "\n",
        "Eigenvalue 121.0\n",
        "Eigenvector [-0.09136897  0.10984115 -0.11952119  0.1101373 ] \n",
        "\n",
        "Eigenvalue 49.0\n",
        "Eigenvector [ 0.12402736  0.12659172  0.08305611 -0.82180946] \n",
        "\n",
        "Eigenvalue 16.0\n",
        "Eigenvector [-0.04850001  0.01821756  0.13424439  0.00143778] \n",
        "\n",
        "Eigenvalue 4.0\n",
        "Eigenvector [ 0.0282685   0.01328118 -0.00651847 -0.04425723] \n",
        "\n",
        "Eigenvalue 1.0\n",
        "Eigenvector [-0.01857323  0.01506918  0.11622128 -0.09266587] \n",
        "\n",
        "Eigenvalue 0.25\n",
        "Eigenvector [-0.01488223 -0.16669075  0.0865824  -0.00890831] \n",
        "\n",
        "Eigenvalue 0.063\n",
        "Eigenvector [-0.13337292 -0.07117752  0.09657304  0.15570854] \n",
        "\n",
        "Eigenvalue 0.0\n",
        "Eigenvector [ 0.08713488 -0.03633445 -0.1233859   0.08076652] \n",
        "\n",
        "Eigenvalue 0.0\n",
        "Eigenvector [-0.08222959  0.01707311 -0.13671089  0.09933981] \n"
      ],
      "metadata": {
        "id": "DUU-4HsKC9W5"
      }
    },
    {
      "cell_type": "code",
      "source": [
        "# Eigenvector is U columns\n",
        "# Eigenvalues are squared singular values, in other words the S array\n",
        "len(s)\n",
        "i = 0\n",
        "for x in s:\n",
        "  print(\"Eigenvalue\", round(x**2,3))\n",
        "  print(\"Eigenvector\", u[i],\"\\n\")\n",
        "  i = i + 1"
      ],
      "metadata": {
        "colab": {
          "base_uri": "https://localhost:8080/"
        },
        "id": "mg1e7csA5362",
        "outputId": "16d30754-cad9-4c4b-b10d-079c7eadc9a0"
      },
      "execution_count": 75,
      "outputs": [
        {
          "output_type": "stream",
          "name": "stdout",
          "text": [
            "Eigenvalue 121.0\n",
            "Eigenvector [-0.09136897  0.10984115 -0.11952119  0.1101373   0.12402736  0.12659172\n",
            "  0.08305611 -0.82180946 -0.04850001  0.01821756  0.13424439  0.00143778\n",
            "  0.0282685   0.01328118 -0.00651847 -0.04425723 -0.01857323  0.01506918\n",
            "  0.11622128 -0.09266587 -0.01488223 -0.16669075  0.0865824  -0.00890831\n",
            " -0.13337292 -0.07117752  0.09657304  0.15570854  0.08713488 -0.03633445\n",
            " -0.1233859   0.08076652 -0.08222959  0.01707311 -0.13671089  0.09933981\n",
            " -0.09907935  0.09620338 -0.08539236 -0.09218757] \n",
            "\n",
            "Eigenvalue 49.0\n",
            "Eigenvector [-0.05331326 -0.04100421 -0.1903035  -0.18460683 -0.14690408 -0.09715263\n",
            "  0.09926875 -0.13180446 -0.25152264 -0.00958192 -0.24597661  0.03502816\n",
            " -0.07919097  0.18851869 -0.16247121  0.22830595  0.00576728 -0.31933431\n",
            " -0.14269546  0.20486432 -0.12564377  0.22132165 -0.43612018 -0.11444981\n",
            " -0.08105705 -0.01041679 -0.01646674  0.1718379   0.09774128 -0.03572747\n",
            " -0.26650487  0.16225936  0.04194818  0.09703226  0.12833698  0.02570726\n",
            "  0.07431741 -0.03669328  0.08142502  0.0514037 ] \n",
            "\n",
            "Eigenvalue 16.0\n",
            "Eigenvector [ 0.14469323 -0.06837295 -0.25774046  0.31830414 -0.24381724 -0.02618708\n",
            " -0.14706683  0.05411118 -0.37842783 -0.16919351  0.04148233  0.06405916\n",
            " -0.05227066  0.19382612  0.25384169 -0.07517523 -0.05681579  0.15887509\n",
            " -0.02597888 -0.27733855 -0.34289336 -0.01127733  0.00425583 -0.0024102\n",
            " -0.06862483  0.10099025 -0.01815126  0.05779912  0.14015672  0.18601399\n",
            "  0.1197098   0.13902533 -0.0716143  -0.18768247  0.09031771 -0.21202634\n",
            "  0.04577321  0.03880281 -0.07932511 -0.01663689] \n",
            "\n",
            "Eigenvalue 4.0\n",
            "Eigenvector [ 0.02775824  0.01677617  0.00286109  0.09885824  0.24478321  0.15960512\n",
            " -0.11400899  0.00405034 -0.10885875  0.35380415 -0.1176385  -0.15294059\n",
            " -0.21900199  0.0446065  -0.05864449 -0.2591744  -0.13719932  0.11921809\n",
            "  0.17398149 -0.04528826 -0.21445322  0.17064821 -0.08680068  0.03493735\n",
            "  0.19067783  0.20107828 -0.15074966 -0.00085099  0.00852791 -0.15444884\n",
            " -0.24091859 -0.25225158 -0.11425152 -0.18756274  0.25617884  0.27848943\n",
            " -0.05402855 -0.04787287  0.07050887  0.00111077] \n",
            "\n",
            "Eigenvalue 1.0\n",
            "Eigenvector [-0.12597111  0.01668502  0.11074929 -0.07262785 -0.07108337  0.09527263\n",
            "  0.14120555  0.11316808 -0.17706869 -0.0316677  -0.19689407 -0.13048809\n",
            " -0.04802306 -0.07057678 -0.12930299  0.11080219  0.03432264 -0.05559326\n",
            "  0.37598227 -0.10798455 -0.06532714 -0.16205695  0.10786344 -0.14263847\n",
            "  0.34143149  0.19045896  0.1521336   0.07545919 -0.11489405 -0.09035705\n",
            " -0.08479821  0.33051489  0.27440349 -0.27316947 -0.25175044 -0.04441834\n",
            "  0.0809157   0.13339739 -0.04331473 -0.11927778] \n",
            "\n",
            "Eigenvalue 0.25\n",
            "Eigenvector [ 0.07925464 -0.10377257  0.01443582 -0.08416488 -0.38337417  0.12612872\n",
            " -0.23903971 -0.01899286  0.03091419 -0.166123   -0.09193183  0.11506716\n",
            " -0.07855494  0.21287672 -0.25482001 -0.05366288 -0.13767118 -0.15433849\n",
            " -0.06214865 -0.19720763  0.21969838  0.10963048  0.32685284 -0.15612766\n",
            " -0.09878476 -0.11715965 -0.05773673  0.04921116  0.05213493 -0.0551296\n",
            "  0.05992095 -0.14357628  0.10301322 -0.14293631  0.00995969  0.42969751\n",
            "  0.0198723  -0.00386966 -0.02583233 -0.18068025] \n",
            "\n",
            "Eigenvalue 0.063\n",
            "Eigenvector [ 0.11002483 -0.13727032 -0.37053415  0.26680441  0.06770482 -0.13059825\n",
            "  0.02419576  0.17756986 -0.0149806   0.19798917  0.00706124  0.0013993\n",
            "  0.12810752 -0.11985567 -0.2290522  -0.32734089 -0.00181652 -0.17120207\n",
            " -0.06227528  0.16337476  0.05141187 -0.13289876  0.07223658 -0.24153284\n",
            " -0.01421057 -0.05130031  0.28148343 -0.14190619  0.29524455  0.01582149\n",
            " -0.20713949 -0.11966439  0.1509876   0.04404222 -0.14911017 -0.10415221\n",
            " -0.05721878  0.03406864 -0.02629051 -0.1529912 ] \n",
            "\n",
            "Eigenvalue 0.0\n",
            "Eigenvector [-0.02585651 -0.25098301  0.1888835  -0.00986718 -0.06639304 -0.02060826\n",
            "  0.09689811  0.01045578 -0.16481891  0.11185195  0.22970493 -0.08417077\n",
            "  0.14428934 -0.12169547  0.10821142  0.17999282 -0.00923108 -0.12457392\n",
            " -0.39478322 -0.34551763 -0.12839639 -0.23867261  0.02272928  0.08502799\n",
            " -0.07699126  0.26861612  0.08200982 -0.03258099 -0.09257412 -0.08324095\n",
            " -0.22412193 -0.12592783  0.26294572  0.09842195  0.0779023   0.16668075\n",
            " -0.17669534  0.02982344  0.14959704  0.017597  ] \n",
            "\n",
            "Eigenvalue 0.0\n",
            "Eigenvector [ 0.39273079  0.19381977  0.00779993  0.01009141 -0.04713712  0.14704265\n",
            " -0.09782406 -0.07626699 -0.45613288  0.15829193 -0.03420767 -0.05180701\n",
            "  0.03944778 -0.05766303 -0.09402477  0.11639624  0.01397734  0.03113212\n",
            " -0.02232736 -0.10750835  0.2542694   0.0777892   0.01537152 -0.0044187\n",
            "  0.06110412 -0.16617573 -0.00497079 -0.26887338 -0.2163291  -0.15925312\n",
            " -0.0019185  -0.07960679 -0.12753498  0.19817016 -0.08750996 -0.19028891\n",
            "  0.15655081  0.248567    0.22897036 -0.00966865] \n",
            "\n"
          ]
        }
      ]
    },
    {
      "cell_type": "markdown",
      "source": [
        "# (d.)\n",
        "Compute Ak for k = 4.\n",
        "\n",
        "#Answer:\n",
        "\n",
        "Ak is:\n",
        " [[-1.76735444e-01 -3.81256283e-02  3.65028528e-01  1.34637882e-01\n",
        "   6.08762521e-01  3.42820371e-02 -2.14928491e-01  7.39014836e-01\n",
        "  -8.54547393e-01]\n",
        " [ 7.15887696e-01 -6.88278409e-01  1.16819142e+00 -6.64255231e-02\n",
        "  -1.27108959e-01 -1.99384931e-01  1.28621683e+00 -2.44389436e-01\n",
        "   1.15460993e+00]\n",
        " [-5.18966268e-01  6.52662089e-02 -2.29774771e-02 -1.57194221e-01\n",
        "   2.62045527e-01 -4.24642166e-01  1.03783573e-01  9.46784637e-02\n",
        "  -1.47275676e-01]\n",
        " [ 1.60671172e-01 -9.14160360e-02  1.07511845e-01  5.00682260e-02\n",
        "  -1.46250710e-01  2.62568731e-02  8.56840843e-02 -4.53600821e-05\n",
        "   1.90241017e-01]\n",
        " [-3.05896125e-01 -9.12785780e-03  6.24905370e-02 -1.41455435e-01\n",
        "   1.51207052e-01 -3.32240621e-01  2.20142353e-01 -2.40708814e-02\n",
        "   5.89384982e-02]\n",
        " [-2.71735217e-01  3.74434699e-01 -7.19465713e-01 -3.20016052e-01\n",
        "   2.71903039e-02  3.84611294e-02 -9.53553564e-02 -8.10253023e-01\n",
        "   8.16185637e-02]\n",
        " [-8.85255152e-01  4.41333343e-01 -5.34032384e-01 -3.21864922e-01\n",
        "   7.01055925e-01 -2.74382223e-01 -2.87025821e-01 -1.05037360e-01\n",
        "  -7.87029615e-01]\n",
        " [ 6.32686615e-01 -7.84132032e-02 -9.46478836e-02  2.28874964e-01\n",
        "  -6.06986628e-01  4.48249288e-01 -1.71253625e-01 -1.51058019e-01\n",
        "   4.04684025e-01]\n",
        " [-1.00201625e-01  1.30543617e-01  1.18669164e-02  3.21676216e-02\n",
        "   5.44866791e-01  2.43048823e-01 -3.09014652e-01  2.85690661e-01\n",
        "  -7.80795444e-01]\n",
        " [-2.06509026e-01 -4.35363087e-02  4.41533326e-01 -1.76374309e-02\n",
        "   8.20105475e-01 -9.75280825e-03  3.16011633e-02  4.98993241e-01\n",
        "  -7.93423581e-01]\n",
        " [ 2.61625978e-01  1.19688764e-01  3.58147703e-02 -9.10790959e-02\n",
        "   6.16015406e-01  5.46635865e-01 -6.65342176e-02 -2.44239576e-01\n",
        "  -5.54394226e-01]\n",
        " [-8.36500288e-01  4.47821843e-01 -4.30910266e-01 -5.17397488e-01\n",
        "   1.04126093e+00 -2.08297633e-01  8.88718329e-03 -4.61355881e-01\n",
        "  -7.78927326e-01]\n",
        " [-5.89341177e-01  4.73878608e-01 -9.53250784e-02 -2.40372947e-01\n",
        "   1.80223701e+00  4.34291785e-01 -5.29677208e-01  3.00049788e-01\n",
        "  -2.04606285e+00]\n",
        " [-6.73006729e-02 -1.96053496e-01  6.22455960e-01  3.49634344e-01\n",
        "   4.60767396e-01  9.51661672e-03 -2.99324521e-01  1.21431461e+00\n",
        "  -8.95473318e-01]\n",
        " [ 2.37273882e-01  6.81553210e-01 -1.37315438e+00 -2.20160824e-01\n",
        "  -2.17101242e-01  8.79601053e-01 -7.10957851e-01 -1.30443680e+00\n",
        "  -1.08421161e-01]\n",
        " [ 4.83546134e-01 -2.87335347e-01  1.12198641e+00  3.57999514e-01\n",
        "   1.23037122e+00  6.80838997e-01 -1.79542924e-01  1.20365560e+00\n",
        "  -1.49805357e+00]\n",
        " [-3.97653412e-01  2.13602369e-01 -2.12988323e-01 -5.86875247e-02\n",
        "   4.03825313e-01 -3.57226846e-02 -3.03032656e-01  1.80228503e-01\n",
        "  -6.17692237e-01]\n",
        " [ 9.69277996e-01 -9.17812278e-02 -7.67578537e-02  3.92849886e-01\n",
        "  -6.76731036e-01  8.19521644e-01 -3.95753347e-01 -4.64326579e-02\n",
        "   2.52405721e-01]\n",
        " [-1.03448199e-01 -2.58654544e-01  3.34978948e-01  1.19153043e-01\n",
        "  -3.53085642e-01 -4.64285351e-01  2.38685732e-01  4.04019871e-01\n",
        "   4.19511153e-01]\n",
        " [ 1.25933485e-01 -4.28391868e-02 -1.82836357e-01  3.99895420e-02\n",
        "  -6.00625294e-01 -9.45399354e-02  5.15507658e-02 -2.26204895e-01\n",
        "   6.12109690e-01]\n",
        " [ 1.09361720e+00 -7.23227243e-02 -3.03030653e-01  4.95286368e-01\n",
        "  -1.14584544e+00  8.69304996e-01 -5.58505784e-01 -1.16197126e-01\n",
        "   5.45933783e-01]\n",
        " [-7.86697307e-01  5.07205859e-01 -2.21209117e-01 -3.14597747e-01\n",
        "   1.67781533e+00  2.06819262e-01 -4.64982875e-01  2.00720792e-01\n",
        "  -1.85635371e+00]\n",
        " [-1.83087500e+00  1.06959141e+00 -9.81705891e-01 -8.73149105e-01\n",
        "   2.45309399e+00 -1.68960739e-01 -5.69858566e-01 -3.95742000e-01\n",
        "  -2.45457358e+00]\n",
        " [-7.59503085e-01 -2.95693873e-01  6.84163074e-01 -5.08579002e-02\n",
        "   3.32055196e-01 -1.02183813e+00  4.92772008e-01  8.31141446e-01\n",
        "  -4.53183948e-02]\n",
        " [-6.98556544e-02 -2.91483131e-01  8.31413000e-01  7.65509517e-03\n",
        "   6.80572941e-01 -2.05451992e-01  4.11078126e-01  5.80164891e-01\n",
        "  -3.92129578e-01]\n",
        " [-1.54753397e+00  6.60259962e-01 -2.52613877e-01 -6.02234144e-01\n",
        "   2.32505773e+00 -2.93006850e-01 -3.28388017e-01  2.73985712e-01\n",
        "  -2.30244772e+00]\n",
        " [-2.82318912e-01 -6.63121851e-02  3.32449270e-01  6.10264466e-02\n",
        "   4.46141115e-01 -1.88921821e-01 -4.25518447e-02  6.00331360e-01\n",
        "  -5.41230530e-01]\n",
        " [ 3.17398469e-01 -5.95733246e-01  6.72665683e-01  4.66408369e-01\n",
        "  -1.09636705e+00 -5.19852994e-01  2.85702209e-01  8.30909277e-01\n",
        "   1.00449559e+00]\n",
        " [-4.53219604e-01  4.72278065e-01 -6.86642156e-01 -5.43254225e-01\n",
        "   5.86215102e-01  4.33386592e-02  6.82032737e-02 -1.02954676e+00\n",
        "  -2.27393649e-01]\n",
        " [ 3.93938384e-01 -1.75808340e-01  2.36401959e-01  1.81722637e-01\n",
        "  -2.46089852e-01  1.85874460e-01  2.56801088e-02  1.49384778e-01\n",
        "   1.89714761e-01]\n",
        " [ 7.89855177e-02 -6.09012769e-02  8.33982490e-03  1.14299919e-01\n",
        "  -2.74068139e-01 -2.53998392e-02 -6.79157329e-02  1.36340851e-01\n",
        "   1.55578481e-01]\n",
        " [ 1.36610691e+00 -7.90965516e-01  8.46624340e-01  7.19231096e-01\n",
        "  -1.57075241e+00  2.47631768e-01  2.83373403e-01  5.58788202e-01\n",
        "   1.43504606e+00]\n",
        " [-1.31817586e-01 -5.70821336e-01  1.53984755e+00  3.10373006e-01\n",
        "   1.01391707e+00 -3.53091920e-01  3.34271702e-01  1.68907056e+00\n",
        "  -9.76974962e-01]\n",
        " [-7.40542116e-01  2.45545733e-01  2.73698862e-01 -3.89894676e-01\n",
        "   1.75725833e+00 -7.50111742e-02  8.38038576e-02  2.19372509e-01\n",
        "  -1.49674351e+00]\n",
        " [-9.78925246e-01  1.52376868e-02  3.47943787e-01 -2.22647933e-01\n",
        "   9.07187550e-01 -7.67595293e-01  2.20445785e-01  6.08088098e-01\n",
        "  -7.11962444e-01]\n",
        " [-7.66760569e-01  5.02761181e-02  5.77625854e-01 -5.18891767e-02\n",
        "   1.50742972e+00 -2.49538408e-01 -1.47166178e-01  1.07258344e+00\n",
        "  -1.63818908e+00]\n",
        " [ 1.21156388e+00 -7.79815835e-01  1.00368388e+00  7.08614402e-01\n",
        "  -1.17086771e+00  2.28167895e-01  2.45901141e-01  8.14595059e-01\n",
        "   1.00577519e+00]\n",
        " [ 6.71393189e-01  2.15468832e-01 -3.09666665e-01 -1.33844103e-01\n",
        "   2.57742724e-01  9.31835369e-01 -9.97178824e-02 -8.85147638e-01\n",
        "  -1.47232680e-01]\n",
        " [-1.21869196e+00  6.89144164e-01 -1.16527500e+00 -5.08414214e-01\n",
        "   3.53447721e-01 -5.00093769e-01 -3.78022427e-01 -6.18611417e-01\n",
        "  -4.31808192e-01]\n",
        " [-4.05501337e-01  2.05038109e-01 -2.61961784e-01 -2.08774143e-01\n",
        "   3.18520520e-01 -1.52697708e-01 -3.37300057e-02 -1.95106638e-01\n",
        "  -2.49796079e-01]] \n"
      ],
      "metadata": {
        "id": "AObBePprAddU"
      }
    },
    {
      "cell_type": "code",
      "source": [
        "#Resize for 4\n",
        "sk = s[0:4] #take just 4 values from s\n",
        "sm = sla.diagsvd(sk,4, 9) #make s into a 4x9 matrix\n",
        "uk = u #make copy\n",
        "sk = sm\n",
        "vk = vt\n",
        "uk.resize((40,4), refcheck = False) #resize to a 40x4, this will have zeroes to right of the first 4 columns\n",
        "vk.resize((9, 9)) #resize to 9x9\n",
        "Ak = uk@sk@vk #SVD back to A matrix except with k = 4\n",
        "print(\"Ak is:\\n\", Ak,\"\\n\")"
      ],
      "metadata": {
        "colab": {
          "base_uri": "https://localhost:8080/"
        },
        "id": "FLO_cvnPAi4E",
        "outputId": "fa529e85-6bf6-4b69-dacf-b43c863f6a93"
      },
      "execution_count": 76,
      "outputs": [
        {
          "output_type": "stream",
          "name": "stdout",
          "text": [
            "Ak is:\n",
            " [[-1.76735444e-01 -3.81256283e-02  3.65028528e-01  1.34637882e-01\n",
            "   6.08762521e-01  3.42820371e-02 -2.14928491e-01  7.39014836e-01\n",
            "  -8.54547393e-01]\n",
            " [ 7.15887696e-01 -6.88278409e-01  1.16819142e+00 -6.64255231e-02\n",
            "  -1.27108959e-01 -1.99384931e-01  1.28621683e+00 -2.44389436e-01\n",
            "   1.15460993e+00]\n",
            " [-5.18966268e-01  6.52662089e-02 -2.29774771e-02 -1.57194221e-01\n",
            "   2.62045527e-01 -4.24642166e-01  1.03783573e-01  9.46784637e-02\n",
            "  -1.47275676e-01]\n",
            " [ 1.60671172e-01 -9.14160360e-02  1.07511845e-01  5.00682260e-02\n",
            "  -1.46250710e-01  2.62568731e-02  8.56840843e-02 -4.53600821e-05\n",
            "   1.90241017e-01]\n",
            " [-3.05896125e-01 -9.12785780e-03  6.24905370e-02 -1.41455435e-01\n",
            "   1.51207052e-01 -3.32240621e-01  2.20142353e-01 -2.40708814e-02\n",
            "   5.89384982e-02]\n",
            " [-2.71735217e-01  3.74434699e-01 -7.19465713e-01 -3.20016052e-01\n",
            "   2.71903039e-02  3.84611294e-02 -9.53553564e-02 -8.10253023e-01\n",
            "   8.16185637e-02]\n",
            " [-8.85255152e-01  4.41333343e-01 -5.34032384e-01 -3.21864922e-01\n",
            "   7.01055925e-01 -2.74382223e-01 -2.87025821e-01 -1.05037360e-01\n",
            "  -7.87029615e-01]\n",
            " [ 6.32686615e-01 -7.84132032e-02 -9.46478836e-02  2.28874964e-01\n",
            "  -6.06986628e-01  4.48249288e-01 -1.71253625e-01 -1.51058019e-01\n",
            "   4.04684025e-01]\n",
            " [-1.00201625e-01  1.30543617e-01  1.18669164e-02  3.21676216e-02\n",
            "   5.44866791e-01  2.43048823e-01 -3.09014652e-01  2.85690661e-01\n",
            "  -7.80795444e-01]\n",
            " [-2.06509026e-01 -4.35363087e-02  4.41533326e-01 -1.76374309e-02\n",
            "   8.20105475e-01 -9.75280825e-03  3.16011633e-02  4.98993241e-01\n",
            "  -7.93423581e-01]\n",
            " [ 2.61625978e-01  1.19688764e-01  3.58147703e-02 -9.10790959e-02\n",
            "   6.16015406e-01  5.46635865e-01 -6.65342176e-02 -2.44239576e-01\n",
            "  -5.54394226e-01]\n",
            " [-8.36500288e-01  4.47821843e-01 -4.30910266e-01 -5.17397488e-01\n",
            "   1.04126093e+00 -2.08297633e-01  8.88718329e-03 -4.61355881e-01\n",
            "  -7.78927326e-01]\n",
            " [-5.89341177e-01  4.73878608e-01 -9.53250784e-02 -2.40372947e-01\n",
            "   1.80223701e+00  4.34291785e-01 -5.29677208e-01  3.00049788e-01\n",
            "  -2.04606285e+00]\n",
            " [-6.73006729e-02 -1.96053496e-01  6.22455960e-01  3.49634344e-01\n",
            "   4.60767396e-01  9.51661672e-03 -2.99324521e-01  1.21431461e+00\n",
            "  -8.95473318e-01]\n",
            " [ 2.37273882e-01  6.81553210e-01 -1.37315438e+00 -2.20160824e-01\n",
            "  -2.17101242e-01  8.79601053e-01 -7.10957851e-01 -1.30443680e+00\n",
            "  -1.08421161e-01]\n",
            " [ 4.83546134e-01 -2.87335347e-01  1.12198641e+00  3.57999514e-01\n",
            "   1.23037122e+00  6.80838997e-01 -1.79542924e-01  1.20365560e+00\n",
            "  -1.49805357e+00]\n",
            " [-3.97653412e-01  2.13602369e-01 -2.12988323e-01 -5.86875247e-02\n",
            "   4.03825313e-01 -3.57226846e-02 -3.03032656e-01  1.80228503e-01\n",
            "  -6.17692237e-01]\n",
            " [ 9.69277996e-01 -9.17812278e-02 -7.67578537e-02  3.92849886e-01\n",
            "  -6.76731036e-01  8.19521644e-01 -3.95753347e-01 -4.64326579e-02\n",
            "   2.52405721e-01]\n",
            " [-1.03448199e-01 -2.58654544e-01  3.34978948e-01  1.19153043e-01\n",
            "  -3.53085642e-01 -4.64285351e-01  2.38685732e-01  4.04019871e-01\n",
            "   4.19511153e-01]\n",
            " [ 1.25933485e-01 -4.28391868e-02 -1.82836357e-01  3.99895420e-02\n",
            "  -6.00625294e-01 -9.45399354e-02  5.15507658e-02 -2.26204895e-01\n",
            "   6.12109690e-01]\n",
            " [ 1.09361720e+00 -7.23227243e-02 -3.03030653e-01  4.95286368e-01\n",
            "  -1.14584544e+00  8.69304996e-01 -5.58505784e-01 -1.16197126e-01\n",
            "   5.45933783e-01]\n",
            " [-7.86697307e-01  5.07205859e-01 -2.21209117e-01 -3.14597747e-01\n",
            "   1.67781533e+00  2.06819262e-01 -4.64982875e-01  2.00720792e-01\n",
            "  -1.85635371e+00]\n",
            " [-1.83087500e+00  1.06959141e+00 -9.81705891e-01 -8.73149105e-01\n",
            "   2.45309399e+00 -1.68960739e-01 -5.69858566e-01 -3.95742000e-01\n",
            "  -2.45457358e+00]\n",
            " [-7.59503085e-01 -2.95693873e-01  6.84163074e-01 -5.08579002e-02\n",
            "   3.32055196e-01 -1.02183813e+00  4.92772008e-01  8.31141446e-01\n",
            "  -4.53183948e-02]\n",
            " [-6.98556544e-02 -2.91483131e-01  8.31413000e-01  7.65509517e-03\n",
            "   6.80572941e-01 -2.05451992e-01  4.11078126e-01  5.80164891e-01\n",
            "  -3.92129578e-01]\n",
            " [-1.54753397e+00  6.60259962e-01 -2.52613877e-01 -6.02234144e-01\n",
            "   2.32505773e+00 -2.93006850e-01 -3.28388017e-01  2.73985712e-01\n",
            "  -2.30244772e+00]\n",
            " [-2.82318912e-01 -6.63121851e-02  3.32449270e-01  6.10264466e-02\n",
            "   4.46141115e-01 -1.88921821e-01 -4.25518447e-02  6.00331360e-01\n",
            "  -5.41230530e-01]\n",
            " [ 3.17398469e-01 -5.95733246e-01  6.72665683e-01  4.66408369e-01\n",
            "  -1.09636705e+00 -5.19852994e-01  2.85702209e-01  8.30909277e-01\n",
            "   1.00449559e+00]\n",
            " [-4.53219604e-01  4.72278065e-01 -6.86642156e-01 -5.43254225e-01\n",
            "   5.86215102e-01  4.33386592e-02  6.82032737e-02 -1.02954676e+00\n",
            "  -2.27393649e-01]\n",
            " [ 3.93938384e-01 -1.75808340e-01  2.36401959e-01  1.81722637e-01\n",
            "  -2.46089852e-01  1.85874460e-01  2.56801088e-02  1.49384778e-01\n",
            "   1.89714761e-01]\n",
            " [ 7.89855177e-02 -6.09012769e-02  8.33982490e-03  1.14299919e-01\n",
            "  -2.74068139e-01 -2.53998392e-02 -6.79157329e-02  1.36340851e-01\n",
            "   1.55578481e-01]\n",
            " [ 1.36610691e+00 -7.90965516e-01  8.46624340e-01  7.19231096e-01\n",
            "  -1.57075241e+00  2.47631768e-01  2.83373403e-01  5.58788202e-01\n",
            "   1.43504606e+00]\n",
            " [-1.31817586e-01 -5.70821336e-01  1.53984755e+00  3.10373006e-01\n",
            "   1.01391707e+00 -3.53091920e-01  3.34271702e-01  1.68907056e+00\n",
            "  -9.76974962e-01]\n",
            " [-7.40542116e-01  2.45545733e-01  2.73698862e-01 -3.89894676e-01\n",
            "   1.75725833e+00 -7.50111742e-02  8.38038576e-02  2.19372509e-01\n",
            "  -1.49674351e+00]\n",
            " [-9.78925246e-01  1.52376868e-02  3.47943787e-01 -2.22647933e-01\n",
            "   9.07187550e-01 -7.67595293e-01  2.20445785e-01  6.08088098e-01\n",
            "  -7.11962444e-01]\n",
            " [-7.66760569e-01  5.02761181e-02  5.77625854e-01 -5.18891767e-02\n",
            "   1.50742972e+00 -2.49538408e-01 -1.47166178e-01  1.07258344e+00\n",
            "  -1.63818908e+00]\n",
            " [ 1.21156388e+00 -7.79815835e-01  1.00368388e+00  7.08614402e-01\n",
            "  -1.17086771e+00  2.28167895e-01  2.45901141e-01  8.14595059e-01\n",
            "   1.00577519e+00]\n",
            " [ 6.71393189e-01  2.15468832e-01 -3.09666665e-01 -1.33844103e-01\n",
            "   2.57742724e-01  9.31835369e-01 -9.97178824e-02 -8.85147638e-01\n",
            "  -1.47232680e-01]\n",
            " [-1.21869196e+00  6.89144164e-01 -1.16527500e+00 -5.08414214e-01\n",
            "   3.53447721e-01 -5.00093769e-01 -3.78022427e-01 -6.18611417e-01\n",
            "  -4.31808192e-01]\n",
            " [-4.05501337e-01  2.05038109e-01 -2.61961784e-01 -2.08774143e-01\n",
            "   3.18520520e-01 -1.52697708e-01 -3.37300057e-02 -1.95106638e-01\n",
            "  -2.49796079e-01]] \n",
            "\n"
          ]
        }
      ]
    },
    {
      "cell_type": "markdown",
      "source": [
        "# (d) \n",
        "What is ||A − A$_k$||$^2$$_F$?\n",
        "\n",
        "#Answer:\n",
        "The frobenius norm is provided below\n"
      ],
      "metadata": {
        "id": "P7ebmoLuC_vf"
      }
    },
    {
      "cell_type": "code",
      "source": [
        "LA.norm(A, ord=\"fro\")"
      ],
      "metadata": {
        "colab": {
          "base_uri": "https://localhost:8080/"
        },
        "id": "O7V82O4Zmy_f",
        "outputId": "0937e1e8-fc7b-4fdf-b701-1a87caf9fe8a"
      },
      "execution_count": 77,
      "outputs": [
        {
          "output_type": "execute_result",
          "data": {
            "text/plain": [
              "13.831576193623052"
            ]
          },
          "metadata": {},
          "execution_count": 77
        }
      ]
    },
    {
      "cell_type": "markdown",
      "source": [
        "# (e)\n",
        "What is ||A − A$_k$||$^2$$_2$?\n",
        "\n",
        "#Answer:\n",
        "The spectral norm is provided below"
      ],
      "metadata": {
        "id": "S65QyDEvDBh9"
      }
    },
    {
      "cell_type": "code",
      "source": [
        "LA.norm(A, ord=2)"
      ],
      "metadata": {
        "colab": {
          "base_uri": "https://localhost:8080/"
        },
        "id": "TTt6Th3lnpGX",
        "outputId": "133b328c-4e18-45ad-8f26-e319fcddf4de"
      },
      "execution_count": 78,
      "outputs": [
        {
          "output_type": "execute_result",
          "data": {
            "text/plain": [
              "11.0"
            ]
          },
          "metadata": {},
          "execution_count": 78
        }
      ]
    },
    {
      "cell_type": "markdown",
      "source": [
        "# (f-g)\n",
        "Center A. Run PCA to find the best 4-dimensional subspace F to minimize ||A − πF (A)||$^2$$_F$.\n",
        "Report\n",
        "\n",
        "(f) ||A − πF (A)||$^2$$_F$\n",
        "and\n",
        "\n",
        "(g) ||A − πF (A)||$^2$$_2$.\n",
        "\n",
        "#Answer:\n",
        "Frobenius norm of centered A matrix:"
      ],
      "metadata": {
        "id": "6Yn1df1oDG7F"
      }
    },
    {
      "cell_type": "code",
      "source": [
        "C = np.eye(40) -np.ones(40)/40 # Center vector\n",
        "CenteredA = C @ A #Centered matrix A\n",
        "\n",
        "LA.norm(CenteredA, ord=\"fro\")"
      ],
      "metadata": {
        "colab": {
          "base_uri": "https://localhost:8080/"
        },
        "id": "bAkCj7w61yIn",
        "outputId": "fd0aff0f-ba36-4b70-9f6e-ce1f5048c907"
      },
      "execution_count": 79,
      "outputs": [
        {
          "output_type": "execute_result",
          "data": {
            "text/plain": [
              "13.763531325364546"
            ]
          },
          "metadata": {},
          "execution_count": 79
        }
      ]
    },
    {
      "cell_type": "markdown",
      "source": [
        "Spectral norm of centered A matrix:"
      ],
      "metadata": {
        "id": "pmwZiQiN2knr"
      }
    },
    {
      "cell_type": "code",
      "source": [
        "LA.norm(CenteredA, ord=2)"
      ],
      "metadata": {
        "colab": {
          "base_uri": "https://localhost:8080/"
        },
        "id": "glhcDpT32kHa",
        "outputId": "892d881f-783f-4195-a0b7-512879b36d57"
      },
      "execution_count": 80,
      "outputs": [
        {
          "output_type": "execute_result",
          "data": {
            "text/plain": [
              "10.962637375364059"
            ]
          },
          "metadata": {},
          "execution_count": 80
        }
      ]
    }
  ]
}